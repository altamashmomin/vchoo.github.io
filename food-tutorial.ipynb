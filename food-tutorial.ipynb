{
 "cells": [
  {
   "cell_type": "markdown",
   "metadata": {},
   "source": [
    "<center>\n",
    "    <b>\n",
    "        <font size=\"+3\">\n",
    "            Food Pairing and Data Science\n",
    "        </font>\n",
    "    </b>\n",
    "    <br>\n",
    "    <br>\n",
    "    Vincent Choo\n",
    "</center>\n",
    "\n",
    "# Introduction\n",
    "\n",
    "[Food pairing](https://en.wikipedia.org/wiki/Foodpairing) is a principle for deciding which foods, when eaten together, are better flavor-wise. [One study, published in *Nature*](https://www.nature.com/articles/srep00196), found that Western cooking, for example, prefers to pair foods when they share many flavors, as opposed to Eastern cooking, which tends to pair foods when they contrast flavor-wise. When combined with knowledge of what foods are central to each culture, it then becomes possible to derive insights what gives each cuisine its style.\n",
    "\n",
    "Hypothetically, a [fusion restuarant](https://en.wikipedia.org/wiki/Fusion_cuisine) might choose to cook in a distinctly Eastern style (contrasting flavors) using mostly Western ingredients. It might even be possible to generate new cuisine styles that are designed to be as different as possible from existing styles. However, before any of that happens, we'll need data on food, and lots of it.\n",
    "\n",
    "# Overview\n",
    "\n",
    "First, we'll need a database of flavor compounds in each kind of food ingredient. Several databases concerning food exist, such as [FoodDB](http://foodb.ca/), [FlavorNet](http://www.flavornet.org/), and [FlavorDB](https://www.ncbi.nlm.nih.gov/pubmed/29059383), but not all associate foods with the compounds they contain. The one at FlavorDB does, so we can scrape our data from the FlavorDB [website](https://cosylab.iiitd.edu.in/flavordb/).\n",
    "\n",
    "Once we have the data, we'll need it in a form that we can easily manipulate. [``Pandas DataFrames``](https://pandas.pydata.org/pandas-docs/version/0.23.4/generated/pandas.DataFrame.html) are a good choice - they're effectively small databases that we can access and manipulate with the power of Python's other libraries, and without the need for a SQL-like syntax.\n",
    "\n",
    "Then, we'll be able to run all sorts of nice data visualizations and analysis methods on our ``DataFrames``."
   ]
  },
  {
   "cell_type": "markdown",
   "metadata": {},
   "source": [
    "# Acquiring Data\n",
    "\n",
    "First things first - how do we go about scraping the data from FlavorDB?\n",
    "\n",
    "The general steps to data scraping are:\n",
    "1. **Download** the JSON files which describe the chemical makeup of the food.\n",
    "    - Find the URLs which have the JSON files.\n",
    "    - Iterate over the URLs that have these JSON files, and download the data in them.\n",
    "2. **Process** the JSON data by converting it into a Pandas ``Dataframe``.\n",
    "3. **Clean** the ``DataFrame``.\n",
    "\n",
    "## Steps 1-2: JSON Files\n",
    "\n",
    "A quick inspection of the FlavorDB website reveals that all of the JSON files we want are at https://cosylab.iiitd.edu.in/flavordb/entities_json?id=x, where ``x`` is an integer. Then it's a cinch to write a few functions which go to those addresses and converts those JSON files into dictionaries. "
   ]
  },
  {
   "cell_type": "code",
   "execution_count": 39,
   "metadata": {},
   "outputs": [],
   "source": [
    "# import the relevant Python packages\n",
    "import urllib.request\n",
    "import json\n",
    "\n",
    "import time\n",
    "\n",
    "import numpy as np\n",
    "import pandas as pd\n",
    "import math\n",
    "\n",
    "import matplotlib.pyplot as plt"
   ]
  },
  {
   "cell_type": "code",
   "execution_count": 2,
   "metadata": {},
   "outputs": [],
   "source": [
    "# JSON files are at addresses of this form\n",
    "def flavordb_entity_url(x):\n",
    "    return \"https://cosylab.iiitd.edu.in/flavordb/entities_json?id=\"+str(x)\n",
    "\n",
    "\n",
    "# translates the JSON file at the specified web address into a dictionary\n",
    "def get_flavordb_entity(x):\n",
    "    # source: https://stackoverflow.com/questions/12965203/how-to-get-json-from-webpage-into-python-script\n",
    "    with urllib.request.urlopen(flavordb_entity_url(x)) as url:\n",
    "        return json.loads(url.read().decode())\n",
    "    return None"
   ]
  },
  {
   "cell_type": "markdown",
   "metadata": {},
   "source": [
    "Those dictionaries contain a lot of unnecessary information, which is why we need to specify what fields we want (and, for ease of use, what we want to rename them to)."
   ]
  },
  {
   "cell_type": "code",
   "execution_count": 3,
   "metadata": {},
   "outputs": [],
   "source": [
    "# the names of the \"columns\" in the raw JSON objects\n",
    "def flavordb_entity_cols():\n",
    "    return [\n",
    "        'entity_id', 'entity_alias_readable', 'entity_alias_synonyms',\n",
    "        'natural_source_name', 'category_readable', 'molecules'\n",
    "    ]\n",
    "\n",
    "\n",
    "# what we want to rename the JSON object \"columns\" to\n",
    "def flavordb_df_cols():\n",
    "    return [\n",
    "        'entity id', 'alias', 'synonyms',\n",
    "        'scientific name', 'category', 'molecules'\n",
    "    ]\n",
    "\n",
    "\n",
    "# \"subcolumns\" in the \"molecules\" column that we are interested in\n",
    "def molecules_df_cols():\n",
    "    return ['pubchem id', 'common name', 'flavor profile']    "
   ]
  },
  {
   "cell_type": "markdown",
   "metadata": {},
   "source": [
    "## Steps 3-4: Downloading & Cleaning\n",
    "\n",
    "We still haven't actually wrote anything that executes - just a bunch of definitions. Right now, we need to define a bunch of stuff as setup. Then, when we download the JSON data later, we can immediately pipeline it through processing and cleaning.\n",
    "\n",
    "The end goal is to have the data in a consistent, easy to access format. That means that I want two databases, one associating foods with food compounds, and another associating food compounds with flavors. The database columns should have the following types:\n",
    "* 'entity id' and 'pubchem id' to be type ``int``\n",
    "* 'alias', 'scientific name', 'category', and 'common name' to be type ``str``\n",
    "* 'synonyms' and 'flavor profile' should be type ``set(str)``\n",
    "* 'molecules' should be a ``set(int)``\n",
    "\n",
    "When these columns are initially downloaded, some of them, such as 'scientific name', have mixed types - they have both strings and some other value (in this case, ``NaN``). Fortunately, not too many columns have mixed types. In particular, (if you do some preliminary work and examine the JSON files,) the columns 'entity id', 'pubchem id', and 'common name' don't require type checking, so we don't have to process those at all.\n",
    "\n",
    "The other small thing that do here is call ``str.lower()`` on all of the strings, just so it's easier to type and it can match other recipes more easily."
   ]
  },
  {
   "cell_type": "code",
   "execution_count": 4,
   "metadata": {},
   "outputs": [],
   "source": [
    "def clean_flavordb_dataframes(flavor_df, molecules_df):\n",
    "    \"\"\"\n",
    "    Helps ensure consistent intra-column typing and converts all strings to lowercase.\n",
    "    \"\"\"\n",
    "    strtype = type('')\n",
    "    settype = type(set())\n",
    "    \n",
    "    # ensuring that these columns have type str\n",
    "    for k in ['alias', 'scientific name', 'category']:\n",
    "        flavor_df[k] = [\n",
    "            elem.lower() if isinstance(elem, strtype) else ''\n",
    "            for elem in flavor_df[k]\n",
    "        ]\n",
    "    \n",
    "    # ensuring that these columns are always a set of str\n",
    "    flavor_df['synonyms'] = [\n",
    "        elem if isinstance(elem, settype) else (\n",
    "            set(elem.lower().split(', ') if isinstance(elem, strtype) else [''])\n",
    "        )\n",
    "        for elem in flavor_df['synonyms']\n",
    "    ]\n",
    "    \n",
    "    molecules_df['flavor profile'] = [\n",
    "        set([x.lower() for x in elem])\n",
    "        for elem in molecules_df['flavor profile']\n",
    "    ]\n",
    "    \n",
    "    return [\n",
    "        flavor_df.groupby('entity id').first().reset_index(),\n",
    "        molecules_df.groupby('pubchem id').first().reset_index()\n",
    "    ]"
   ]
  },
  {
   "cell_type": "markdown",
   "metadata": {},
   "source": [
    "This is where most of the work is done. ``get_flavordb_dataframes()`` is the code that ties together all three steps of data scraping: **downloading**, **processing**, and **cleaning**. It even handles errors, for when a JSON page is missing."
   ]
  },
  {
   "cell_type": "code",
   "execution_count": 5,
   "metadata": {},
   "outputs": [],
   "source": [
    "# generate dataframes from some of the JSON objects\n",
    "def get_flavordb_dataframes(start, end):\n",
    "    \"\"\"\n",
    "    Download JSON data, converts it to DataFrames, and cleans them.\n",
    "    \n",
    "    Returns DataFrames for both foods and molecules, as well as missing JSON entries.\n",
    "    \"\"\"\n",
    "    # make intermediate values to make dataframes from\n",
    "    flavordb_data = []\n",
    "    molecules_dict = {}\n",
    "    missing = [] # numbers of the missing JSON files during iteration\n",
    "    \n",
    "    flavordb_cols = flavordb_entity_cols()\n",
    "    \n",
    "    for i in range(start, end):\n",
    "        # we use a try-except here because some of the JSON pages are missing\n",
    "        try:\n",
    "            # 1: Find the JSON file. Gets the ith food entity, as a JSON dict\n",
    "            fdbe = get_flavordb_entity(i + 1)\n",
    "\n",
    "            # get only the relevant fields (columns) of the dict\n",
    "            flavordb_series = [fdbe[k] for k in flavordb_cols[:-1]]\n",
    "            flavordb_series.append( # convert the field to a set\n",
    "                set([m['pubchem_id'] for m in fdbe['molecules']])\n",
    "            )\n",
    "            flavordb_data.append(flavordb_series)\n",
    "\n",
    "            # update the molecules dataframe with the data in 'molecules' field\n",
    "            for m in fdbe['molecules']:\n",
    "                if m['pubchem_id'] not in molecules_dict:\n",
    "                    molecules_dict[m['pubchem_id']] = [\n",
    "                        m['common_name'],\n",
    "                        set(m['flavor_profile'].split('@'))\n",
    "                    ]\n",
    "        except urllib.error.HTTPError as e:\n",
    "            if e.code == 404: # if the JSON file is missing\n",
    "                missing.append(i)\n",
    "            else:\n",
    "                raise RuntimeError(\n",
    "                    'Error while fetching JSON object from ' + flavordb_entity_url(x)\n",
    "                ) from e\n",
    "            \n",
    "    # generate the dataframes\n",
    "    flavordb_df = pd.DataFrame(\n",
    "        flavordb_data,\n",
    "        columns=flavordb_df_cols()\n",
    "    )\n",
    "    molecules_df = pd.DataFrame(\n",
    "        [\n",
    "            [k, v[0], v[1]]\n",
    "             for k, v in molecules_dict.items()\n",
    "        ],\n",
    "        columns=molecules_df_cols()\n",
    "    )\n",
    "    \n",
    "    # clean up the dataframe columns\n",
    "    flavordb_df, molecules_df = clean_flavordb_dataframes(flavordb_df, molecules_df)\n",
    "    \n",
    "    return [flavordb_df, molecules_df, missing]"
   ]
  },
  {
   "cell_type": "markdown",
   "metadata": {},
   "source": [
    "It takes a long time to download all of these JSON files. If the code somehow crashes, we'll lose all of our download progress in a few short seconds. Therefore, it's a good idea to save the download progress."
   ]
  },
  {
   "cell_type": "code",
   "execution_count": 6,
   "metadata": {},
   "outputs": [],
   "source": [
    "# updates & saves the download progress of your dataframes\n",
    "def update_flavordb_dataframes(df0, df1, ranges):\n",
    "    \"\"\"\n",
    "    Adds more data to the specified DataFrames, and saves them as CSV files.\n",
    "    \n",
    "    If successful, returns the specified DataFrames, now updated, and any missing JSON files.\n",
    "    \"\"\"\n",
    "    df0_old = df0\n",
    "    df1_old = df1\n",
    "    missing_old = []\n",
    "\n",
    "    # time how long it took to download the files\n",
    "    start = time.time()\n",
    "    \n",
    "    # for each range in ranges, save your progress.\n",
    "    # don't continue with the program unless everything succeeds!\n",
    "    try:\n",
    "        for a, b in ranges:\n",
    "            df0_new, df1_new, missing_new = get_flavordb_dataframes(a, b)\n",
    "            \n",
    "            df0_old = df0_old.append(df0_new, ignore_index=True)\n",
    "            df1_old = df1_old.append(df1_new, ignore_index=True)\n",
    "            missing_old.extend(missing_new)\n",
    "        \n",
    "        return df0_old, df1_old, missing_old\n",
    "    except:\n",
    "        raise # always throw the error so you know what happened\n",
    "    finally:\n",
    "        # even if you throw an error, you'll have saved them as csv files\n",
    "        df0_old.to_csv('flavordb.csv')\n",
    "        df1_old.to_csv('molecules.csv')\n",
    "\n",
    "        end = time.time()\n",
    "        mins = (end - start) / 60.0\n",
    "        print('Downloading took: '+ str(mins) + ' minutes')"
   ]
  },
  {
   "cell_type": "markdown",
   "metadata": {},
   "source": [
    "As of today, it looks like FlavorDB has about 1,000 distinct foods (entities). We'll get the first 1,000 foods we find, and save our progress about every 50 or so foods downloaded."
   ]
  },
  {
   "cell_type": "code",
   "execution_count": null,
   "metadata": {},
   "outputs": [],
   "source": [
    "# take new dataframes\n",
    "df0 = pd.DataFrame(columns=flavordb_df_cols())\n",
    "df1 = pd.DataFrame(columns=molecules_df_cols())\n",
    "\n",
    "# fill the DataFrames with JSON files up to id = 1000\n",
    "ranges = [(50 * i, 50 * (i + 1)) for i in range(20)]\n",
    "# update & save the dataframes as csv files\n",
    "update_flavordb_dataframes(df0, df1, ranges)"
   ]
  },
  {
   "cell_type": "markdown",
   "metadata": {},
   "source": [
    "Creating a DataFrame from a CSV file is a lot faster than downloading and creating one from the internet. In a perfect world, we wouldn't need to, but in the interest of saving time, I've made these methods so that I don't need to redownload the ``DataFrames`` every time I make an edit to the code. They load the ``DataFrame``s from CSV files and recover the information about what JSON IDs are missing."
   ]
  },
  {
   "cell_type": "code",
   "execution_count": 7,
   "metadata": {},
   "outputs": [],
   "source": [
    "# get the missing entries\n",
    "def missing_entity_ids(flavor_df):\n",
    "    \"\"\"\n",
    "    Get the IDs of the missing JSON entries for this particular food DataFrame.\n",
    "    \"\"\"\n",
    "    out = []\n",
    "    entity_id_set = set(flavor_df['entity id'])\n",
    "    for i in range(1, 1 + max(entity_id_set)):\n",
    "        if i not in entity_id_set:\n",
    "            out.append(i)\n",
    "    return out\n",
    "\n",
    "\n",
    "# loads the dataframes from csv files\n",
    "def load_db():\n",
    "    settype = type(set())\n",
    "    \n",
    "    df0 = pd.read_csv('flavordb.csv')[flavordb_df_cols()]\n",
    "    df0['synonyms'] = [eval(x) if isinstance(x, settype) else x for x in df0['synonyms']]\n",
    "    df0['molecules'] = [eval(x) for x in df0['molecules']]\n",
    "    \n",
    "    df1 = pd.read_csv('molecules.csv')[molecules_df_cols()]\n",
    "    df1['flavor profile'] = [eval(x) for x in df1['flavor profile']]\n",
    "    \n",
    "    df0, df1 = clean_flavordb_dataframes(df0, df1)\n",
    "    return df0, df1, missing_entity_ids(df0)"
   ]
  },
  {
   "cell_type": "markdown",
   "metadata": {},
   "source": [
    "Okay, now we can finally display a few rows of our ``DataFrame``s."
   ]
  },
  {
   "cell_type": "code",
   "execution_count": 22,
   "metadata": {
    "scrolled": true
   },
   "outputs": [
    {
     "data": {
      "text/html": [
       "<div>\n",
       "<style scoped>\n",
       "    .dataframe tbody tr th:only-of-type {\n",
       "        vertical-align: middle;\n",
       "    }\n",
       "\n",
       "    .dataframe tbody tr th {\n",
       "        vertical-align: top;\n",
       "    }\n",
       "\n",
       "    .dataframe thead th {\n",
       "        text-align: right;\n",
       "    }\n",
       "</style>\n",
       "<table border=\"1\" class=\"dataframe\">\n",
       "  <thead>\n",
       "    <tr style=\"text-align: right;\">\n",
       "      <th></th>\n",
       "      <th>entity id</th>\n",
       "      <th>alias</th>\n",
       "      <th>synonyms</th>\n",
       "      <th>scientific name</th>\n",
       "      <th>category</th>\n",
       "      <th>molecules</th>\n",
       "    </tr>\n",
       "  </thead>\n",
       "  <tbody>\n",
       "    <tr>\n",
       "      <th>0</th>\n",
       "      <td>1</td>\n",
       "      <td>bakery products</td>\n",
       "      <td>{bakery products}</td>\n",
       "      <td>poacceae</td>\n",
       "      <td>bakery</td>\n",
       "      <td>{27457, 7976, 31252, 26808, 22201, 26331}</td>\n",
       "    </tr>\n",
       "    <tr>\n",
       "      <th>1</th>\n",
       "      <td>2</td>\n",
       "      <td>bread</td>\n",
       "      <td>{bread}</td>\n",
       "      <td>poacceae</td>\n",
       "      <td>bakery</td>\n",
       "      <td>{1031, 1032, 644104, 527, 8723, 31260, 15394, ...</td>\n",
       "    </tr>\n",
       "    <tr>\n",
       "      <th>2</th>\n",
       "      <td>3</td>\n",
       "      <td>rye bread</td>\n",
       "      <td>{rye bread}</td>\n",
       "      <td>rye</td>\n",
       "      <td>bakery</td>\n",
       "      <td>{644104, 7824, 643731, 8468, 1049, 5372954, 80...</td>\n",
       "    </tr>\n",
       "    <tr>\n",
       "      <th>3</th>\n",
       "      <td>4</td>\n",
       "      <td>wheaten bread</td>\n",
       "      <td>{soda scones, soda farls}</td>\n",
       "      <td>wheat</td>\n",
       "      <td>bakery</td>\n",
       "      <td>{6915, 5365891, 12170, 8082, 31251, 7958, 1049...</td>\n",
       "    </tr>\n",
       "    <tr>\n",
       "      <th>4</th>\n",
       "      <td>5</td>\n",
       "      <td>white bread</td>\n",
       "      <td>{white bread}</td>\n",
       "      <td>wheat</td>\n",
       "      <td>bakery</td>\n",
       "      <td>{7361, 994, 7362, 10883, 11173, 5365891, 11559...</td>\n",
       "    </tr>\n",
       "  </tbody>\n",
       "</table>\n",
       "</div>"
      ],
      "text/plain": [
       "   entity id            alias                   synonyms scientific name  \\\n",
       "0          1  bakery products          {bakery products}        poacceae   \n",
       "1          2            bread                    {bread}        poacceae   \n",
       "2          3        rye bread                {rye bread}             rye   \n",
       "3          4    wheaten bread  {soda scones, soda farls}           wheat   \n",
       "4          5      white bread              {white bread}           wheat   \n",
       "\n",
       "  category                                          molecules  \n",
       "0   bakery          {27457, 7976, 31252, 26808, 22201, 26331}  \n",
       "1   bakery  {1031, 1032, 644104, 527, 8723, 31260, 15394, ...  \n",
       "2   bakery  {644104, 7824, 643731, 8468, 1049, 5372954, 80...  \n",
       "3   bakery  {6915, 5365891, 12170, 8082, 31251, 7958, 1049...  \n",
       "4   bakery  {7361, 994, 7362, 10883, 11173, 5365891, 11559...  "
      ]
     },
     "execution_count": 22,
     "metadata": {},
     "output_type": "execute_result"
    }
   ],
   "source": [
    "# missing_ids = the missing ids that are less than the max one found\n",
    "flavor_df, molecules_df, missing_ids = load_db()\n",
    "flavor_df.to_csv('flavordb.csv')\n",
    "molecules_df.to_csv('molecules.csv')\n",
    "flavor_df.head()"
   ]
  },
  {
   "cell_type": "code",
   "execution_count": 23,
   "metadata": {},
   "outputs": [
    {
     "data": {
      "text/html": [
       "<div>\n",
       "<style scoped>\n",
       "    .dataframe tbody tr th:only-of-type {\n",
       "        vertical-align: middle;\n",
       "    }\n",
       "\n",
       "    .dataframe tbody tr th {\n",
       "        vertical-align: top;\n",
       "    }\n",
       "\n",
       "    .dataframe thead th {\n",
       "        text-align: right;\n",
       "    }\n",
       "</style>\n",
       "<table border=\"1\" class=\"dataframe\">\n",
       "  <thead>\n",
       "    <tr style=\"text-align: right;\">\n",
       "      <th></th>\n",
       "      <th>pubchem id</th>\n",
       "      <th>common name</th>\n",
       "      <th>flavor profile</th>\n",
       "    </tr>\n",
       "  </thead>\n",
       "  <tbody>\n",
       "    <tr>\n",
       "      <th>0</th>\n",
       "      <td>4</td>\n",
       "      <td>1-Aminopropan-2-ol</td>\n",
       "      <td>{fishy}</td>\n",
       "    </tr>\n",
       "    <tr>\n",
       "      <th>1</th>\n",
       "      <td>49</td>\n",
       "      <td>3-Methyl-2-oxobutanoic acid</td>\n",
       "      <td>{fruity}</td>\n",
       "    </tr>\n",
       "    <tr>\n",
       "      <th>2</th>\n",
       "      <td>58</td>\n",
       "      <td>2-oxobutanoic acid</td>\n",
       "      <td>{sweet, creamy, brown, lactonic, caramel}</td>\n",
       "    </tr>\n",
       "    <tr>\n",
       "      <th>3</th>\n",
       "      <td>70</td>\n",
       "      <td>4-Methyl-2-oxovaleric acid</td>\n",
       "      <td>{fruity}</td>\n",
       "    </tr>\n",
       "    <tr>\n",
       "      <th>4</th>\n",
       "      <td>72</td>\n",
       "      <td>3,4-Dihydroxybenzoic Acid</td>\n",
       "      <td>{phenolic, balsamic, mild}</td>\n",
       "    </tr>\n",
       "  </tbody>\n",
       "</table>\n",
       "</div>"
      ],
      "text/plain": [
       "   pubchem id                  common name  \\\n",
       "0           4           1-Aminopropan-2-ol   \n",
       "1          49  3-Methyl-2-oxobutanoic acid   \n",
       "2          58           2-oxobutanoic acid   \n",
       "3          70   4-Methyl-2-oxovaleric acid   \n",
       "4          72    3,4-Dihydroxybenzoic Acid   \n",
       "\n",
       "                              flavor profile  \n",
       "0                                    {fishy}  \n",
       "1                                   {fruity}  \n",
       "2  {sweet, creamy, brown, lactonic, caramel}  \n",
       "3                                   {fruity}  \n",
       "4                 {phenolic, balsamic, mild}  "
      ]
     },
     "execution_count": 23,
     "metadata": {},
     "output_type": "execute_result"
    }
   ],
   "source": [
    "molecules_df.head()"
   ]
  },
  {
   "cell_type": "code",
   "execution_count": 24,
   "metadata": {
    "scrolled": true
   },
   "outputs": [
    {
     "name": "stdout",
     "output_type": "stream",
     "text": [
      "Missing IDs: [406, 407, 420, 479, 483, 599, 605, 666, 681, 689, 692, 760, 761, 779, 797, 798, 801, 802, 804, 808, 809, 811, 812, 813, 816, 819, 838, 844, 866, 877, 888, 892, 903, 910, 922, 940, 946, 957, 966, 973, 974, 975, 976]\n"
     ]
    }
   ],
   "source": [
    "print('Missing IDs: ' + str(missing_ids))"
   ]
  },
  {
   "cell_type": "markdown",
   "metadata": {},
   "source": [
    "# Exploratory Data Analysis\n",
    "\n",
    "## Preliminary Analysis\n",
    "\n",
    "Done! Now we have a large database of foods. But how do we know if the database is complete enough? Let's do a preliminary test on how many foods FlavorDB knows."
   ]
  },
  {
   "cell_type": "code",
   "execution_count": 25,
   "metadata": {},
   "outputs": [
    {
     "data": {
      "text/plain": [
       "{'caramel': False,\n",
       " 'urchin': False,\n",
       " 'liver': False,\n",
       " 'haggis': False,\n",
       " 'blood': False,\n",
       " 'cheese': True,\n",
       " 'pawpaw': True,\n",
       " 'rose': True,\n",
       " 'durian': True,\n",
       " 'squirrel': True,\n",
       " 'kombu': True,\n",
       " 'whale': True,\n",
       " 'white fish': False,\n",
       " 'whitefish': True}"
      ]
     },
     "execution_count": 25,
     "metadata": {},
     "output_type": "execute_result"
    }
   ],
   "source": [
    "foods = ['caramel', 'urchin', 'liver', 'haggis',\n",
    "         'blood', 'cheese', 'pawpaw', 'rose',\n",
    "         'durian', 'squirrel', 'kombu', 'whale',\n",
    "         'white fish', 'whitefish']\n",
    "\n",
    "# check if any food matches (or is a substring of) an alias in the database\n",
    "{f : any([f in alias for alias in flavor_df['alias']])\n",
    " for f in foods}"
   ]
  },
  {
   "cell_type": "markdown",
   "metadata": {},
   "source": [
    "Hmmm. This database is not exactly complete. While the database certainly includes some uncommon foods like [whale](https://en.wikipedia.org/wiki/Whale_meat), [durian](https://en.wikipedia.org/wiki/Durian), [paw-paw](https://en.wikipedia.org/wiki/Asimina_triloba), and [rose](https://en.wikipedia.org/wiki/Rose#Food_and_drink), it is also missing others such as [sea urchin](https://en.wikipedia.org/wiki/Sea_urchin#As_food), [liver](https://en.wikipedia.org/wiki/Liver_(food)), and [blood](https://en.wikipedia.org/wiki/Blood_as_food) (see [black pudding](https://en.wikipedia.org/wiki/Black_pudding)). In addition, common terms, like [\"white fish\"](https://en.wikipedia.org/wiki/Whitefish_(fisheries_term)), which refers to several species of fish, are left out entirely (\"whitefish\" refers to a single species of fish).\n",
    "\n",
    "Of course, we wouldn't expect this database to have the food compounds of caramel, because even today, the [process of caramelization](https://www.scienceofcooking.com/caramelization.htm) is [extremely complex](https://www.exploratorium.edu/cooking/candy/caramels-story.html) and [not well-understood](https://bcachemistry.wordpress.com/2014/05/11/the-chemistry-of-caramel/), so [complete information on caramel](https://chem-net.blogspot.com/2015/04/food-chemistry-caramelization-sugar15.html) shouldn't be there.\n",
    "\n",
    "Now that's out of the way, it's time for analysis and visualizations!\n",
    "\n",
    "## Similar Foods\n",
    "\n",
    "Which foods are most similar to each other? From the previously mentioned [Nature article](https://www.nature.com/articles/srep00196), the mean number of shared compounds per recipe is given by ``msc()``:"
   ]
  },
  {
   "cell_type": "code",
   "execution_count": 26,
   "metadata": {},
   "outputs": [],
   "source": [
    "def get_food(food_name, flavor_df):\n",
    "    return flavor_df[[\n",
    "        (flavor_df.at[i, 'alias'] == food_name\n",
    "         or food_name in flavor_df.at[i, 'synonyms'])\n",
    "        for i in flavor_df.index\n",
    "    ]]\n",
    "\n",
    "\n",
    "def get_molecules(food_name, flavor_df):\n",
    "    out = list(get_food(food_name, flavor_df)['molecules'])\n",
    "    if len(out) > 1:\n",
    "        raise ValueError('food ' + food_name + ' has more than one entry')\n",
    "    return out[0]\n",
    "    \n",
    "    \n",
    "def msc(foods, flavor_df, **kwargs):\n",
    "    \"\"\"\n",
    "    Return the mean shared compounds (MSC) for a given recipe (set of foods),\n",
    "    i.e. sum(# shared compounds per 2 foods) / (# of combinations of 2 foods)\n",
    "    \"\"\"\n",
    "    use_index = kwargs.get('use_index', False)\n",
    "    if use_index:\n",
    "        mols = [flavor_df.at[i, 'molecules'] for i in foods]\n",
    "    else:\n",
    "        mols = [get_molecules(f, flavor_df) for f in foods]\n",
    "    \n",
    "    nr = len(foods)\n",
    "    out = 0\n",
    "    for i in range(nr):\n",
    "        for j in range(i + 1, nr):\n",
    "            out += len(mols[i].intersection(mols[j]))\n",
    "    out *= 2.0 / (nr * (nr - 1))\n",
    "    return out"
   ]
  },
  {
   "cell_type": "markdown",
   "metadata": {},
   "source": [
    "Since we only have ~1,000 foods in our ``DataFrame``, it's not too expensive to find the MSC between every two foods. Then, we can look for \"clusters\" of similar foods and ones that very different from one another."
   ]
  },
  {
   "cell_type": "code",
   "execution_count": 30,
   "metadata": {},
   "outputs": [],
   "source": [
    "len_flavor = len(flavor_df.index)\n",
    "food_msc = np.ndarray((len_flavor, len_flavor))\n",
    "for i in range(len_flavor):\n",
    "    for j in range(i + 1, len_flavor):\n",
    "        food_msc[i][j] = msc([i, j], flavor_df, use_index=True)\n",
    "        food_msc[j][i] = food_msc[i][j]"
   ]
  },
  {
   "cell_type": "markdown",
   "metadata": {},
   "source": [
    "Now that we have the MSC between all pairs of food, let's see how many compounds foods normally share:"
   ]
  },
  {
   "cell_type": "code",
   "execution_count": 41,
   "metadata": {},
   "outputs": [
    {
     "name": "stdout",
     "output_type": "stream",
     "text": [
      "Average: 18.9843392719\n",
      "Median: 2.0\n"
     ]
    },
    {
     "data": {
      "image/png": "[encoded data removed]",
      "text/plain": [
       "<Figure size 432x288 with 1 Axes>"
      ]
     },
     "metadata": {},
     "output_type": "display_data"
    }
   ],
   "source": [
    "msc_data = food_msc.reshape(len_flavor**2)\n",
    "\n",
    "print('Average: ' + str(np.average(msc_data)))\n",
    "print('Median: ' + str(np.median(msc_data)))\n",
    "\n",
    "fignum = 1\n",
    "plt.hist(msc_data, bins=list(range(60)))\n",
    "plt.title('Figure ' + str(fignum) + ':\\nFrequency of Mean Shared Compounds')\n",
    "plt.xlabel('mean shared compounds')\n",
    "plt.ylabel('frequency')\n",
    "plt.show()\n",
    "fignum += 1"
   ]
  },
  {
   "cell_type": "markdown",
   "metadata": {},
   "source": [
    "This shouldn't be that surprising; only similar foods (like beef and pork) should have similar compounds in them. The vast majority of foods taste really different from one another!\n",
    "\n",
    "But wait - how similar are foods within each category? How similar are they to other categories? What are our categories?"
   ]
  },
  {
   "cell_type": "code",
   "execution_count": 47,
   "metadata": {},
   "outputs": [
    {
     "data": {
      "text/plain": [
       "{'additive',\n",
       " 'bakery',\n",
       " 'berry',\n",
       " 'beverage',\n",
       " 'beverage alcoholic',\n",
       " 'beverage caffeinated',\n",
       " 'cabbage',\n",
       " 'cereal',\n",
       " 'dairy',\n",
       " 'dish',\n",
       " 'essential oil',\n",
       " 'fish',\n",
       " 'flower',\n",
       " 'fruit',\n",
       " 'fruit citrus',\n",
       " 'fruit essence',\n",
       " 'fruit-berry',\n",
       " 'fungus',\n",
       " 'gourd',\n",
       " 'herb',\n",
       " 'legume',\n",
       " 'maize',\n",
       " 'meat',\n",
       " 'nut',\n",
       " 'plant',\n",
       " 'plant derivative',\n",
       " 'seafood',\n",
       " 'seed',\n",
       " 'spice',\n",
       " 'vegetable',\n",
       " 'vegetable fruit',\n",
       " 'vegetable root',\n",
       " 'vegetable stem',\n",
       " 'vegetable tuber'}"
      ]
     },
     "execution_count": 47,
     "metadata": {},
     "output_type": "execute_result"
    }
   ],
   "source": [
    "set(flavor_df['category'])"
   ]
  },
  {
   "cell_type": "markdown",
   "metadata": {},
   "source": [
    "Oops. It looks like we still have some more data cleaning to do. What's the difference between a vegetable, fruit, and vegetable fruit? How come cabbage gets its own category? Let's take a closer look. If we take a quick glance through the names of *every* food in FlavorDB (output not included), we'll notice a few strange things:"
   ]
  },
  {
   "cell_type": "code",
   "execution_count": 63,
   "metadata": {},
   "outputs": [],
   "source": [
    "aliases_by_category = ''\n",
    "for c in set(flavor_df['category']):\n",
    "    aliases_by_category += (\n",
    "        c + ': '\n",
    "        + str(list(flavor_df[flavor_df['category'] == c]['alias']))\n",
    "        + '\\n\\n'\n",
    "    )\n",
    "# print(aliases_by_category)"
   ]
  },
  {
   "cell_type": "markdown",
   "metadata": {},
   "source": [
    "It looks like some entries/categories were made erroneously (see elderberry, cornbread, mixed nuts). A few looked incorrect but were correct (corn salad, or cornsalad, is a type of leafy vegetable), but a lot were seemed like they were sorted to make sure no one category is too large. However, I can see signficant differences in flavor between categories.\n",
    "\n",
    "We're mostly interested in the ingredients list, not in finished products like cornbread, so we'll keep only raw ingredients, and remove a few outliers.\n",
    "\n",
    "(Also: woah! [Apparently tobacco is a food.](https://www.scmp.com/magazines/post-magazine/article/1701428/how-cook-using-tobacco-sweet-and-savoury-dishes))"
   ]
  }
 ],
 "metadata": {
  "kernelspec": {
   "display_name": "Python 3",
   "language": "python",
   "name": "python3"
  },
  "language_info": {
   "codemirror_mode": {
    "name": "ipython",
    "version": 3
   },
   "file_extension": ".py",
   "mimetype": "text/x-python",
   "name": "python",
   "nbconvert_exporter": "python",
   "pygments_lexer": "ipython3",
   "version": "3.6.3"
  }
 },
 "nbformat": 4,
 "nbformat_minor": 2
}
